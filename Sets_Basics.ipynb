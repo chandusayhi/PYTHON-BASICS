{
 "cells": [
  {
   "cell_type": "markdown",
   "id": "f70ced55",
   "metadata": {},
   "source": [
    "set is a mutable, unordered collection of objects. frozenset is similar to set, but immutable. \n",
    "Sets are declared as a collection of objects separated by a comma within {} curly brace characters. "
   ]
  },
  {
   "cell_type": "code",
   "execution_count": 1,
   "id": "da7acd49",
   "metadata": {},
   "outputs": [
    {
     "data": {
      "text/plain": [
       "set()"
      ]
     },
     "execution_count": 1,
     "metadata": {},
     "output_type": "execute_result"
    }
   ],
   "source": [
    "#The set() function can be used to initialize an empty set and to convert iterables.\n",
    "\n",
    "empty_set = set()\n",
    "empty_set"
   ]
  },
  {
   "cell_type": "code",
   "execution_count": 2,
   "id": "a35e6b4e",
   "metadata": {},
   "outputs": [],
   "source": [
    "nums = {-0.1, 3, 2, -5, 7, 1, 6.3, 5}"
   ]
  },
  {
   "cell_type": "code",
   "execution_count": 3,
   "id": "b96e09a1",
   "metadata": {},
   "outputs": [
    {
     "data": {
      "text/plain": [
       "{-5, -0.1, 1, 2, 3, 5, 6.3, 7}"
      ]
     },
     "execution_count": 3,
     "metadata": {},
     "output_type": "execute_result"
    }
   ],
   "source": [
    "# note that the order is not the same as declaration\n",
    "nums"
   ]
  },
  {
   "cell_type": "code",
   "execution_count": 4,
   "id": "a836cb93",
   "metadata": {},
   "outputs": [
    {
     "data": {
      "text/plain": [
       "{2, 3, 5, 11, 13}"
      ]
     },
     "execution_count": 4,
     "metadata": {},
     "output_type": "execute_result"
    }
   ],
   "source": [
    "# duplicates are automatically removed\n",
    "set([3, 2, 11, 3, 5, 13, 2])"
   ]
  },
  {
   "cell_type": "code",
   "execution_count": 5,
   "id": "662abd0e",
   "metadata": {},
   "outputs": [
    {
     "data": {
      "text/plain": [
       "{'a', 'e', 'i', 'l', 'n', 't', 'z'}"
      ]
     },
     "execution_count": 5,
     "metadata": {},
     "output_type": "execute_result"
    }
   ],
   "source": [
    "set('initialize')"
   ]
  },
  {
   "cell_type": "code",
   "execution_count": 6,
   "id": "1215d29d",
   "metadata": {},
   "outputs": [
    {
     "ename": "TypeError",
     "evalue": "unhashable type: 'list'",
     "output_type": "error",
     "traceback": [
      "\u001b[0;31m---------------------------------------------------------------------------\u001b[0m",
      "\u001b[0;31mTypeError\u001b[0m                                 Traceback (most recent call last)",
      "\u001b[0;32m/tmp/ipykernel_6146/484848752.py\u001b[0m in \u001b[0;36m<module>\u001b[0;34m\u001b[0m\n\u001b[1;32m      1\u001b[0m \u001b[0;31m#set doesn't allow mutable objects as elements.\u001b[0m\u001b[0;34m\u001b[0m\u001b[0;34m\u001b[0m\u001b[0;34m\u001b[0m\u001b[0m\n\u001b[1;32m      2\u001b[0m \u001b[0;34m\u001b[0m\u001b[0m\n\u001b[0;32m----> 3\u001b[0;31m \u001b[0;34m{\u001b[0m\u001b[0;36m1\u001b[0m\u001b[0;34m,\u001b[0m \u001b[0;36m3\u001b[0m\u001b[0;34m,\u001b[0m \u001b[0;34m[\u001b[0m\u001b[0;36m1\u001b[0m\u001b[0;34m,\u001b[0m \u001b[0;36m2\u001b[0m\u001b[0;34m]\u001b[0m\u001b[0;34m,\u001b[0m \u001b[0;36m4\u001b[0m\u001b[0;34m}\u001b[0m\u001b[0;34m\u001b[0m\u001b[0;34m\u001b[0m\u001b[0m\n\u001b[0m",
      "\u001b[0;31mTypeError\u001b[0m: unhashable type: 'list'"
     ]
    }
   ],
   "source": [
    "#set doesn't allow mutable objects as elements.\n",
    "\n",
    "{1, 3, [1, 2], 4}"
   ]
  },
  {
   "cell_type": "code",
   "execution_count": 7,
   "id": "25a362ac",
   "metadata": {},
   "outputs": [
    {
     "data": {
      "text/plain": [
       "{(1, 2), 1, 3, 4}"
      ]
     },
     "execution_count": 7,
     "metadata": {},
     "output_type": "execute_result"
    }
   ],
   "source": [
    "{1, 3, (1, 2), 4}"
   ]
  },
  {
   "cell_type": "code",
   "execution_count": 9,
   "id": "e71f5428",
   "metadata": {},
   "outputs": [
    {
     "data": {
      "text/plain": [
       "True"
      ]
     },
     "execution_count": 9,
     "metadata": {},
     "output_type": "execute_result"
    }
   ],
   "source": [
    "#The in operator checks if a value is present in the given set.\n",
    "colors = {'red', 'blue', 'green'}\n",
    "'blue' in colors"
   ]
  },
  {
   "cell_type": "code",
   "execution_count": 10,
   "id": "df3f3615",
   "metadata": {},
   "outputs": [
    {
     "data": {
      "text/plain": [
       "False"
      ]
     },
     "execution_count": 10,
     "metadata": {},
     "output_type": "execute_result"
    }
   ],
   "source": [
    "'orange' in colors"
   ]
  },
  {
   "cell_type": "code",
   "execution_count": 11,
   "id": "dd2f68e9",
   "metadata": {},
   "outputs": [],
   "source": [
    "color_1 = {'teal', 'light blue', 'green', 'yellow'}\n",
    "color_2 = {'light blue', 'black', 'dark green', 'yellow'}"
   ]
  },
  {
   "cell_type": "code",
   "execution_count": 12,
   "id": "6c9c8d28",
   "metadata": {},
   "outputs": [
    {
     "data": {
      "text/plain": [
       "{'black', 'dark green', 'green', 'light blue', 'teal', 'yellow'}"
      ]
     },
     "execution_count": 12,
     "metadata": {},
     "output_type": "execute_result"
    }
   ],
   "source": [
    "# union of two sets: color_1 | color_2\n",
    "color_1.union(color_2)"
   ]
  },
  {
   "cell_type": "code",
   "execution_count": 13,
   "id": "c57e02f5",
   "metadata": {},
   "outputs": [
    {
     "data": {
      "text/plain": [
       "{'light blue', 'yellow'}"
      ]
     },
     "execution_count": 13,
     "metadata": {},
     "output_type": "execute_result"
    }
   ],
   "source": [
    "# common items: color_1 & color_2\n",
    "color_1.intersection(color_2)"
   ]
  },
  {
   "cell_type": "code",
   "execution_count": 14,
   "id": "2c762f18",
   "metadata": {},
   "outputs": [
    {
     "data": {
      "text/plain": [
       "{'green', 'teal'}"
      ]
     },
     "execution_count": 14,
     "metadata": {},
     "output_type": "execute_result"
    }
   ],
   "source": [
    "# items from color_1 not present in color_2: color_1 - color_2\n",
    "color_1.difference(color_2)"
   ]
  },
  {
   "cell_type": "code",
   "execution_count": 15,
   "id": "e9e3d397",
   "metadata": {},
   "outputs": [
    {
     "data": {
      "text/plain": [
       "{'black', 'dark green'}"
      ]
     },
     "execution_count": 15,
     "metadata": {},
     "output_type": "execute_result"
    }
   ],
   "source": [
    "# items from color_2 not present in color_1: color_2 - color_1\n",
    "color_2.difference(color_1)"
   ]
  },
  {
   "cell_type": "code",
   "execution_count": 16,
   "id": "a079b80e",
   "metadata": {},
   "outputs": [
    {
     "data": {
      "text/plain": [
       "{'black', 'dark green', 'green', 'teal'}"
      ]
     },
     "execution_count": 16,
     "metadata": {},
     "output_type": "execute_result"
    }
   ],
   "source": [
    "# items present in one of the sets, but not both\n",
    "# i.e. union of previous two operations: color_1 ^ color_2\n",
    "color_1.symmetric_difference(color_2)"
   ]
  },
  {
   "cell_type": "code",
   "execution_count": 17,
   "id": "2d8b2474",
   "metadata": {},
   "outputs": [],
   "source": [
    "#methods like keys(), values() and items() return a set-like object. You can apply set operators on them.\n",
    "marks_1 = dict(Rahul=86, Ravi=92, Rohit=75)\n",
    "marks_2 = dict(Jo=89, Rohit=78, Joe=75, Ravi=100)"
   ]
  },
  {
   "cell_type": "code",
   "execution_count": 18,
   "id": "f354c35d",
   "metadata": {},
   "outputs": [
    {
     "data": {
      "text/plain": [
       "{'Ravi', 'Rohit'}"
      ]
     },
     "execution_count": 18,
     "metadata": {},
     "output_type": "execute_result"
    }
   ],
   "source": [
    "marks_1.keys() & marks_2.keys()"
   ]
  },
  {
   "cell_type": "code",
   "execution_count": 19,
   "id": "e72af12f",
   "metadata": {},
   "outputs": [
    {
     "data": {
      "text/plain": [
       "{'Rahul'}"
      ]
     },
     "execution_count": 19,
     "metadata": {},
     "output_type": "execute_result"
    }
   ],
   "source": [
    "marks_1.keys() - marks_2.keys()"
   ]
  },
  {
   "cell_type": "code",
   "execution_count": 20,
   "id": "d8ee10a1",
   "metadata": {},
   "outputs": [],
   "source": [
    "#Methods like add(), update(), symmetric_difference_update(), intersection_update() and difference_update() will do the modifications in-place\n",
    "color_1 = {'teal', 'light blue', 'green', 'yellow'}\n",
    "color_2 = {'light blue', 'black', 'dark green', 'yellow'}"
   ]
  },
  {
   "cell_type": "code",
   "execution_count": 21,
   "id": "4dc72e55",
   "metadata": {},
   "outputs": [
    {
     "data": {
      "text/plain": [
       "{'black', 'dark green', 'green', 'light blue', 'teal', 'yellow'}"
      ]
     },
     "execution_count": 21,
     "metadata": {},
     "output_type": "execute_result"
    }
   ],
   "source": [
    "# union\n",
    "color_1.update(color_2)\n",
    "color_1"
   ]
  },
  {
   "cell_type": "code",
   "execution_count": 22,
   "id": "c453f524",
   "metadata": {},
   "outputs": [
    {
     "data": {
      "text/plain": [
       "{'black', 'dark green', 'light blue', 'orange', 'yellow'}"
      ]
     },
     "execution_count": 22,
     "metadata": {},
     "output_type": "execute_result"
    }
   ],
   "source": [
    "# adding a single value\n",
    "color_2.add('orange')\n",
    "color_2"
   ]
  },
  {
   "cell_type": "code",
   "execution_count": 23,
   "id": "e8e22a79",
   "metadata": {},
   "outputs": [],
   "source": [
    "#The pop() method will return a random element being removed.\n",
    "colors = {'red', 'blue', 'green'}"
   ]
  },
  {
   "cell_type": "code",
   "execution_count": 24,
   "id": "0410f3a8",
   "metadata": {},
   "outputs": [
    {
     "data": {
      "text/plain": [
       "'red'"
      ]
     },
     "execution_count": 24,
     "metadata": {},
     "output_type": "execute_result"
    }
   ],
   "source": [
    "colors.pop()"
   ]
  },
  {
   "cell_type": "code",
   "execution_count": 25,
   "id": "af73bcd5",
   "metadata": {},
   "outputs": [
    {
     "data": {
      "text/plain": [
       "{'blue', 'green'}"
      ]
     },
     "execution_count": 25,
     "metadata": {},
     "output_type": "execute_result"
    }
   ],
   "source": [
    "colors"
   ]
  },
  {
   "cell_type": "code",
   "execution_count": 26,
   "id": "0f56fb2a",
   "metadata": {},
   "outputs": [],
   "source": [
    "#The discard() method is similar to remove(), but it will not generate an error if the element doesn't exist.\n",
    "# you'll get KeyError if you use 'remove()' method here\n",
    "colors.discard('black')"
   ]
  },
  {
   "cell_type": "code",
   "execution_count": 27,
   "id": "85d182cd",
   "metadata": {},
   "outputs": [
    {
     "data": {
      "text/plain": [
       "{'blue', 'green'}"
      ]
     },
     "execution_count": 27,
     "metadata": {},
     "output_type": "execute_result"
    }
   ],
   "source": [
    "colors"
   ]
  },
  {
   "cell_type": "code",
   "execution_count": 28,
   "id": "e6ae274f",
   "metadata": {},
   "outputs": [
    {
     "data": {
      "text/plain": [
       "set()"
      ]
     },
     "execution_count": 28,
     "metadata": {},
     "output_type": "execute_result"
    }
   ],
   "source": [
    "colors.clear()\n",
    "colors"
   ]
  },
  {
   "cell_type": "code",
   "execution_count": 29,
   "id": "961cdbe2",
   "metadata": {},
   "outputs": [],
   "source": [
    "#Here's some examples for comparison operations.\n",
    "names_1 = {'Ravi', 'Rohit'}\n",
    "names_2 = {'Ravi', 'Ram', 'Rohit', 'Raj'}"
   ]
  },
  {
   "cell_type": "code",
   "execution_count": 30,
   "id": "8f54f6e9",
   "metadata": {},
   "outputs": [
    {
     "data": {
      "text/plain": [
       "False"
      ]
     },
     "execution_count": 30,
     "metadata": {},
     "output_type": "execute_result"
    }
   ],
   "source": [
    "names_1 == names_2"
   ]
  },
  {
   "cell_type": "code",
   "execution_count": 31,
   "id": "7b54ca2e",
   "metadata": {},
   "outputs": [
    {
     "data": {
      "text/plain": [
       "True"
      ]
     },
     "execution_count": 31,
     "metadata": {},
     "output_type": "execute_result"
    }
   ],
   "source": [
    "# same as: names_1 <= names_2\n",
    "names_1.issubset(names_2)"
   ]
  },
  {
   "cell_type": "code",
   "execution_count": 32,
   "id": "4a07bcf1",
   "metadata": {},
   "outputs": [
    {
     "data": {
      "text/plain": [
       "True"
      ]
     },
     "execution_count": 32,
     "metadata": {},
     "output_type": "execute_result"
    }
   ],
   "source": [
    "# same as: names_2 >= names_1\n",
    "names_2.issuperset(names_1)"
   ]
  },
  {
   "cell_type": "code",
   "execution_count": 33,
   "id": "9dc6262a",
   "metadata": {},
   "outputs": [
    {
     "data": {
      "text/plain": [
       "False"
      ]
     },
     "execution_count": 33,
     "metadata": {},
     "output_type": "execute_result"
    }
   ],
   "source": [
    "# disjoint means there's no common elements\n",
    "# same as: not names_1 & names_2\n",
    "names_1.isdisjoint(names_2)"
   ]
  },
  {
   "cell_type": "code",
   "execution_count": 34,
   "id": "6d921719",
   "metadata": {},
   "outputs": [
    {
     "data": {
      "text/plain": [
       "True"
      ]
     },
     "execution_count": 34,
     "metadata": {},
     "output_type": "execute_result"
    }
   ],
   "source": [
    "names_1.isdisjoint({'Jo', 'Joe'})"
   ]
  },
  {
   "cell_type": "code",
   "execution_count": null,
   "id": "304d00c7",
   "metadata": {},
   "outputs": [],
   "source": []
  },
  {
   "cell_type": "code",
   "execution_count": null,
   "id": "c0643540",
   "metadata": {},
   "outputs": [],
   "source": []
  }
 ],
 "metadata": {
  "kernelspec": {
   "display_name": "Python 3 (ipykernel)",
   "language": "python",
   "name": "python3"
  },
  "language_info": {
   "codemirror_mode": {
    "name": "ipython",
    "version": 3
   },
   "file_extension": ".py",
   "mimetype": "text/x-python",
   "name": "python",
   "nbconvert_exporter": "python",
   "pygments_lexer": "ipython3",
   "version": "3.7.5"
  }
 },
 "nbformat": 4,
 "nbformat_minor": 5
}
