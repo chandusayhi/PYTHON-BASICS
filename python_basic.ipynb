{
 "cells": [
  {
   "cell_type": "code",
   "execution_count": null,
   "id": "b2d03463",
   "metadata": {},
   "outputs": [],
   "source": [
    "Interchange the first and second last element of the list. List = [2,7,8,7,9,3,5,4,1,0,11,12,17]"
   ]
  },
  {
   "cell_type": "code",
   "execution_count": 1,
   "id": "f790ba71",
   "metadata": {},
   "outputs": [
    {
     "name": "stdout",
     "output_type": "stream",
     "text": [
      "[12, 7, 8, 7, 9, 3, 5, 4, 1, 0, 11, 2, 17]\n"
     ]
    }
   ],
   "source": [
    "list1 = [2,7,8,7,9,3,5,4,1,0,11,12,17]\n",
    "r=list1[0]\n",
    "list1[0]=list1[len(list1)-2]\n",
    "list1[len(list1)-2]=r\n",
    "print(list1)"
   ]
  },
  {
   "cell_type": "code",
   "execution_count": null,
   "id": "78b6ba5a",
   "metadata": {},
   "outputs": [],
   "source": [
    "Question 2. Find the fifth smallest number from the list. List: [11,2,67,6,26,5,4,76,77]"
   ]
  },
  {
   "cell_type": "code",
   "execution_count": 2,
   "id": "f8bbd06f",
   "metadata": {},
   "outputs": [
    {
     "name": "stdout",
     "output_type": "stream",
     "text": [
      "[2, 4, 5, 6, 11, 26, 67, 76, 77]\n",
      "11\n"
     ]
    }
   ],
   "source": [
    "r=[11,2,67,6,26,5,4,76,77]\n",
    "r_sorted=sorted(r)\n",
    "print(r_sorted)\n",
    "print(r_sorted[4])"
   ]
  },
  {
   "cell_type": "code",
   "execution_count": null,
   "id": "4eac375b",
   "metadata": {},
   "outputs": [],
   "source": [
    "Question 3 Replace the last element in a list with another list. Original List: [1, 3, 5, 8, 10, 9] List to add: [2, 7, 9] Expected Output: [1, 3, 5, 8, 10, 2, 7, 9]"
   ]
  },
  {
   "cell_type": "code",
   "execution_count": 3,
   "id": "79bd9125",
   "metadata": {},
   "outputs": [
    {
     "name": "stdout",
     "output_type": "stream",
     "text": [
      "[1, 3, 5, 8, 10, 2, 7, 9]\n"
     ]
    }
   ],
   "source": [
    "Original_List=[1, 3, 5, 8, 10, 9]    \n",
    "List_to_add=[2, 7, 9]\n",
    "Original_List.pop(len(Original_List)-1)\n",
    "Original_List.extend(List_to_add)\n",
    "print(Original_List)"
   ]
  },
  {
   "cell_type": "code",
   "execution_count": null,
   "id": "116d8ea2",
   "metadata": {},
   "outputs": [],
   "source": []
  }
 ],
 "metadata": {
  "kernelspec": {
   "display_name": "Python 3 (ipykernel)",
   "language": "python",
   "name": "python3"
  },
  "language_info": {
   "codemirror_mode": {
    "name": "ipython",
    "version": 3
   },
   "file_extension": ".py",
   "mimetype": "text/x-python",
   "name": "python",
   "nbconvert_exporter": "python",
   "pygments_lexer": "ipython3",
   "version": "3.7.3"
  }
 },
 "nbformat": 4,
 "nbformat_minor": 5
}
