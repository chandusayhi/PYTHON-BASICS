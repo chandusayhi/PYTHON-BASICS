{
 "cells": [
  {
   "cell_type": "markdown",
   "id": "55d655cf",
   "metadata": {},
   "source": [
    "# List\n",
    "\n",
    "List is a container data type, similar to tuple, with lots of added functionality and mutable. Lists are typically used to store and manipulate ordered collection of values. Lists are declared as a comma separated values within [] square brackets. Unlike tuple there's no ambiguity in using [] characters, so there's no special requirement of trailing comma for a single element list object. You can use a trailing comma if you wish, which is helpful to easily change a list declared across multiple lines."
   ]
  },
  {
   "cell_type": "code",
   "execution_count": 1,
   "id": "735afc27",
   "metadata": {},
   "outputs": [
    {
     "data": {
      "text/plain": [
       "'a'"
      ]
     },
     "execution_count": 1,
     "metadata": {},
     "output_type": "execute_result"
    }
   ],
   "source": [
    "# 1D example\n",
    "vowels = ['a', 'e', 'i', 'o', 'u']\n",
    "vowels[0]"
   ]
  },
  {
   "cell_type": "code",
   "execution_count": 2,
   "id": "d04c2d63",
   "metadata": {},
   "outputs": [
    {
     "data": {
      "text/plain": [
       "'u'"
      ]
     },
     "execution_count": 2,
     "metadata": {},
     "output_type": "execute_result"
    }
   ],
   "source": [
    "vowels[-1]"
   ]
  },
  {
   "cell_type": "code",
   "execution_count": 3,
   "id": "14477964",
   "metadata": {},
   "outputs": [
    {
     "data": {
      "text/plain": [
       "2021"
      ]
     },
     "execution_count": 3,
     "metadata": {},
     "output_type": "execute_result"
    }
   ],
   "source": [
    "# 2D example\n",
    "student = ['learnbyexample', 2021, ['Linux', 'Vim', 'Python']]\n",
    "student[1]"
   ]
  },
  {
   "cell_type": "code",
   "execution_count": 4,
   "id": "f9b26b19",
   "metadata": {},
   "outputs": [
    {
     "data": {
      "text/plain": [
       "['Linux', 'Vim', 'Python']"
      ]
     },
     "execution_count": 4,
     "metadata": {},
     "output_type": "execute_result"
    }
   ],
   "source": [
    "student[2]"
   ]
  },
  {
   "cell_type": "code",
   "execution_count": 5,
   "id": "2ea70956",
   "metadata": {},
   "outputs": [
    {
     "data": {
      "text/plain": [
       "'Python'"
      ]
     },
     "execution_count": 5,
     "metadata": {},
     "output_type": "execute_result"
    }
   ],
   "source": [
    "student[2][-1]"
   ]
  },
  {
   "cell_type": "markdown",
   "id": "2a17ae3b",
   "metadata": {},
   "source": [
    "Since list is a mutable data type, you can modify the object after initialization. You can either change a single element or use slicing notation to modify multiple elements."
   ]
  },
  {
   "cell_type": "code",
   "execution_count": 6,
   "id": "89fe7873",
   "metadata": {},
   "outputs": [],
   "source": [
    "nums = [1, 4, 6, 22, 3, 5]"
   ]
  },
  {
   "cell_type": "code",
   "execution_count": 7,
   "id": "b358a42b",
   "metadata": {},
   "outputs": [],
   "source": [
    "nums[0] = 100"
   ]
  },
  {
   "cell_type": "code",
   "execution_count": 8,
   "id": "0f052c9f",
   "metadata": {},
   "outputs": [
    {
     "data": {
      "text/plain": [
       "[100, 4, 6, 22, 3, 5]"
      ]
     },
     "execution_count": 8,
     "metadata": {},
     "output_type": "execute_result"
    }
   ],
   "source": [
    "nums"
   ]
  },
  {
   "cell_type": "code",
   "execution_count": 9,
   "id": "33b0bc44",
   "metadata": {},
   "outputs": [
    {
     "data": {
      "text/plain": [
       "[100, 4, 6, -1, -2, -3]"
      ]
     },
     "execution_count": 9,
     "metadata": {},
     "output_type": "execute_result"
    }
   ],
   "source": [
    "nums[-3:] = [-1, -2, -3]\n",
    "nums"
   ]
  },
  {
   "cell_type": "code",
   "execution_count": 10,
   "id": "f4aafe9e",
   "metadata": {},
   "outputs": [
    {
     "data": {
      "text/plain": [
       "[100, 2000, -2, -3]"
      ]
     },
     "execution_count": 10,
     "metadata": {},
     "output_type": "execute_result"
    }
   ],
   "source": [
    "# list will automatically shrink/expand as needed\n",
    "nums[1:4] = [2000]\n",
    "nums"
   ]
  },
  {
   "cell_type": "code",
   "execution_count": 11,
   "id": "5802761f",
   "metadata": {},
   "outputs": [
    {
     "data": {
      "text/plain": [
       "[100, 2000]"
      ]
     },
     "execution_count": 11,
     "metadata": {},
     "output_type": "execute_result"
    }
   ],
   "source": [
    "# list will automatically shrink/expand as needed\n",
    "nums[1:4] = [2000]\n",
    "nums"
   ]
  },
  {
   "cell_type": "code",
   "execution_count": 12,
   "id": "97b451e2",
   "metadata": {},
   "outputs": [
    {
     "data": {
      "text/plain": [
       "['Cradle', 'Mistborn']"
      ]
     },
     "execution_count": 12,
     "metadata": {},
     "output_type": "execute_result"
    }
   ],
   "source": [
    "#Use the append() method to add a single element to the end of a list object.\n",
    "books = []\n",
    "books.append('Cradle')\n",
    "books.append('Mistborn')\n",
    "books"
   ]
  },
  {
   "cell_type": "code",
   "execution_count": 13,
   "id": "7427d4dc",
   "metadata": {},
   "outputs": [
    {
     "data": {
      "text/plain": [
       "[3, 'apple', 100.23, 4, 'mango']"
      ]
     },
     "execution_count": 13,
     "metadata": {},
     "output_type": "execute_result"
    }
   ],
   "source": [
    "#If you need to append multiple items, you can pass an iterable to the extend() method.\n",
    "items = [3, 'apple', 100.23]\n",
    "items.extend([4, 'mango'])\n",
    "items"
   ]
  },
  {
   "cell_type": "code",
   "execution_count": 14,
   "id": "9bc5796a",
   "metadata": {},
   "outputs": [
    {
     "data": {
      "text/plain": [
       "[3, 'apple', 100.23, 4, 'mango', -1, -2, 0, 1, 2, 'h', 'i']"
      ]
     },
     "execution_count": 14,
     "metadata": {},
     "output_type": "execute_result"
    }
   ],
   "source": [
    "items.extend((-1, -2))\n",
    "items.extend(range(3))\n",
    "items.extend('hi')\n",
    "items"
   ]
  },
  {
   "cell_type": "code",
   "execution_count": 15,
   "id": "b86b7d59",
   "metadata": {},
   "outputs": [
    {
     "data": {
      "text/plain": [
       "2"
      ]
     },
     "execution_count": 15,
     "metadata": {},
     "output_type": "execute_result"
    }
   ],
   "source": [
    "#The count() method will give the number of times a value is present.\n",
    "nums = [1, 4, 6, 22, 3, 5, 2, 1, 51, 3, 1]\n",
    "nums.count(3)"
   ]
  },
  {
   "cell_type": "code",
   "execution_count": 16,
   "id": "a0a60634",
   "metadata": {},
   "outputs": [
    {
     "data": {
      "text/plain": [
       "0"
      ]
     },
     "execution_count": 16,
     "metadata": {},
     "output_type": "execute_result"
    }
   ],
   "source": [
    "nums.count(31)"
   ]
  },
  {
   "cell_type": "code",
   "execution_count": 17,
   "id": "e3b86d03",
   "metadata": {},
   "outputs": [
    {
     "data": {
      "text/plain": [
       "4"
      ]
     },
     "execution_count": 17,
     "metadata": {},
     "output_type": "execute_result"
    }
   ],
   "source": [
    "#The index() method will give the index of the first occurrence of a value.\n",
    "nums = [1, 4, 6, 22, 3, 5, 2, 1, 51, 3, 1]\n",
    "nums.index(3)"
   ]
  },
  {
   "cell_type": "code",
   "execution_count": 18,
   "id": "0824f8ef",
   "metadata": {},
   "outputs": [
    {
     "data": {
      "text/plain": [
       "11"
      ]
     },
     "execution_count": 18,
     "metadata": {},
     "output_type": "execute_result"
    }
   ],
   "source": [
    "#The pop() method removes the last element of a list by default.\n",
    "primes = [2, 3, 5, 7, 11]\n",
    "last = primes.pop()\n",
    "last"
   ]
  },
  {
   "cell_type": "code",
   "execution_count": 19,
   "id": "856bb206",
   "metadata": {},
   "outputs": [
    {
     "data": {
      "text/plain": [
       "[2, 3, 5, 7]"
      ]
     },
     "execution_count": 19,
     "metadata": {},
     "output_type": "execute_result"
    }
   ],
   "source": [
    "primes"
   ]
  },
  {
   "cell_type": "code",
   "execution_count": 20,
   "id": "df81f2b8",
   "metadata": {},
   "outputs": [
    {
     "data": {
      "text/plain": [
       "5"
      ]
     },
     "execution_count": 20,
     "metadata": {},
     "output_type": "execute_result"
    }
   ],
   "source": [
    "primes.pop(2)"
   ]
  },
  {
   "cell_type": "code",
   "execution_count": 21,
   "id": "f4296f0f",
   "metadata": {},
   "outputs": [
    {
     "data": {
      "text/plain": [
       "[2, 3, 7]"
      ]
     },
     "execution_count": 21,
     "metadata": {},
     "output_type": "execute_result"
    }
   ],
   "source": [
    "primes"
   ]
  },
  {
   "cell_type": "code",
   "execution_count": 22,
   "id": "54110ca2",
   "metadata": {},
   "outputs": [
    {
     "data": {
      "text/plain": [
       "2021"
      ]
     },
     "execution_count": 22,
     "metadata": {},
     "output_type": "execute_result"
    }
   ],
   "source": [
    "student = ['learnbyexample', 2021, ['Linux', 'Vim', 'Python']]\n",
    "student.pop(1)"
   ]
  },
  {
   "cell_type": "code",
   "execution_count": 23,
   "id": "2f8e9a77",
   "metadata": {},
   "outputs": [
    {
     "data": {
      "text/plain": [
       "'Vim'"
      ]
     },
     "execution_count": 23,
     "metadata": {},
     "output_type": "execute_result"
    }
   ],
   "source": [
    "student[-1].pop(1)"
   ]
  },
  {
   "cell_type": "code",
   "execution_count": 24,
   "id": "bc321a24",
   "metadata": {},
   "outputs": [
    {
     "data": {
      "text/plain": [
       "['learnbyexample', ['Linux', 'Python']]"
      ]
     },
     "execution_count": 24,
     "metadata": {},
     "output_type": "execute_result"
    }
   ],
   "source": [
    "student"
   ]
  },
  {
   "cell_type": "code",
   "execution_count": 25,
   "id": "a2a3ca02",
   "metadata": {},
   "outputs": [
    {
     "data": {
      "text/plain": [
       "['Linux', 'Python']"
      ]
     },
     "execution_count": 25,
     "metadata": {},
     "output_type": "execute_result"
    }
   ],
   "source": [
    "student.pop()"
   ]
  },
  {
   "cell_type": "code",
   "execution_count": 26,
   "id": "94880d89",
   "metadata": {},
   "outputs": [
    {
     "data": {
      "text/plain": [
       "['learnbyexample']"
      ]
     },
     "execution_count": 26,
     "metadata": {},
     "output_type": "execute_result"
    }
   ],
   "source": [
    "student"
   ]
  },
  {
   "cell_type": "code",
   "execution_count": 27,
   "id": "1f655e69",
   "metadata": {},
   "outputs": [
    {
     "data": {
      "text/plain": [
       "[-0.2, 0, 2, 4, 23]"
      ]
     },
     "execution_count": 27,
     "metadata": {},
     "output_type": "execute_result"
    }
   ],
   "source": [
    "#To remove multiple elements using slicing notation, use the del statement. Unlike the pop() method, there is no return value.\n",
    "nums = [1.2, -0.2, 0, 2, 4, 23]\n",
    "del nums[0]\n",
    "nums"
   ]
  },
  {
   "cell_type": "code",
   "execution_count": 28,
   "id": "ee183123",
   "metadata": {},
   "outputs": [],
   "source": [
    "del nums[2:4]"
   ]
  },
  {
   "cell_type": "code",
   "execution_count": 29,
   "id": "5e03550e",
   "metadata": {},
   "outputs": [
    {
     "data": {
      "text/plain": [
       "[-0.2, 0, 23]"
      ]
     },
     "execution_count": 29,
     "metadata": {},
     "output_type": "execute_result"
    }
   ],
   "source": [
    "nums"
   ]
  },
  {
   "cell_type": "code",
   "execution_count": 30,
   "id": "5f01e0ee",
   "metadata": {},
   "outputs": [
    {
     "data": {
      "text/plain": [
       "[[1, 10], [100, 200]]"
      ]
     },
     "execution_count": 30,
     "metadata": {},
     "output_type": "execute_result"
    }
   ],
   "source": [
    "nums_2d = [[1, 3, 2, 10], [1.2, -0.2, 0, 2], [100, 200]]\n",
    "del nums_2d[0][1:3]\n",
    "del nums_2d[1]\n",
    "nums_2d"
   ]
  },
  {
   "cell_type": "code",
   "execution_count": 31,
   "id": "34116093",
   "metadata": {},
   "outputs": [
    {
     "data": {
      "text/plain": [
       "[2, 4, 6, 10]"
      ]
     },
     "execution_count": 31,
     "metadata": {},
     "output_type": "execute_result"
    }
   ],
   "source": [
    "#The pop() method deletes an element based on its index. Use the remove() method to delete an element based on its value.\n",
    "even_numbers = [2, 4, 6, 8, 10]\n",
    "even_numbers.remove(8)\n",
    "even_numbers"
   ]
  },
  {
   "cell_type": "code",
   "execution_count": 32,
   "id": "289e3779",
   "metadata": {},
   "outputs": [
    {
     "data": {
      "text/plain": [
       "[]"
      ]
     },
     "execution_count": 32,
     "metadata": {},
     "output_type": "execute_result"
    }
   ],
   "source": [
    "#The clear() method removes all the elements.\n",
    "nums = [1.2, -0.2, 0, 2, 4, 23]\n",
    "nums.clear()\n",
    "nums"
   ]
  },
  {
   "cell_type": "code",
   "execution_count": 33,
   "id": "d8335327",
   "metadata": {},
   "outputs": [
    {
     "data": {
      "text/plain": [
       "['Sourdough', 'Sherlock Holmes', 'The Martian', 'To Kill a Mocking Bird']"
      ]
     },
     "execution_count": 33,
     "metadata": {},
     "output_type": "execute_result"
    }
   ],
   "source": [
    "books = ['Sourdough', 'Sherlock Holmes', 'To Kill a Mocking Bird']\n",
    "books.insert(2, 'The Martian')\n",
    "books"
   ]
  },
  {
   "cell_type": "code",
   "execution_count": 34,
   "id": "ab16981a",
   "metadata": {},
   "outputs": [
    {
     "data": {
      "text/plain": [
       "[11, 7, 5, 3, 2]"
      ]
     },
     "execution_count": 34,
     "metadata": {},
     "output_type": "execute_result"
    }
   ],
   "source": [
    "#The reverse() method reverses a list object in-place.\n",
    "primes = [2, 3, 5, 7, 11]\n",
    "primes.reverse()\n",
    "primes"
   ]
  },
  {
   "cell_type": "code",
   "execution_count": 35,
   "id": "e0e17aad",
   "metadata": {},
   "outputs": [
    {
     "data": {
      "text/plain": [
       "[2, 3, 5, 7, 11]"
      ]
     },
     "execution_count": 35,
     "metadata": {},
     "output_type": "execute_result"
    }
   ],
   "source": [
    "primes[::-1]"
   ]
  },
  {
   "cell_type": "code",
   "execution_count": 36,
   "id": "4b5f494d",
   "metadata": {},
   "outputs": [
    {
     "data": {
      "text/plain": [
       "[11, 7, 5, 3, 2]"
      ]
     },
     "execution_count": 36,
     "metadata": {},
     "output_type": "execute_result"
    }
   ],
   "source": [
    "primes"
   ]
  },
  {
   "cell_type": "code",
   "execution_count": 37,
   "id": "42bbe32d",
   "metadata": {},
   "outputs": [
    {
     "data": {
      "text/plain": [
       "False"
      ]
     },
     "execution_count": 37,
     "metadata": {},
     "output_type": "execute_result"
    }
   ],
   "source": [
    "primes = [2, 3, 5, 7, 11]\n",
    "nums = [2, 3, 5, 11, 7]\n",
    "primes == nums"
   ]
  },
  {
   "cell_type": "code",
   "execution_count": 38,
   "id": "9af98ec8",
   "metadata": {},
   "outputs": [
    {
     "data": {
      "text/plain": [
       "True"
      ]
     },
     "execution_count": 38,
     "metadata": {},
     "output_type": "execute_result"
    }
   ],
   "source": [
    "primes == [2, 3, 5, 7, 11]"
   ]
  },
  {
   "cell_type": "code",
   "execution_count": 39,
   "id": "ce866395",
   "metadata": {},
   "outputs": [
    {
     "data": {
      "text/plain": [
       "True"
      ]
     },
     "execution_count": 39,
     "metadata": {},
     "output_type": "execute_result"
    }
   ],
   "source": [
    "[1, 1000] < [2, 3]"
   ]
  },
  {
   "cell_type": "code",
   "execution_count": 40,
   "id": "c4ab5bb0",
   "metadata": {},
   "outputs": [
    {
     "data": {
      "text/plain": [
       "False"
      ]
     },
     "execution_count": 40,
     "metadata": {},
     "output_type": "execute_result"
    }
   ],
   "source": [
    "[1000, 2] < [1, 2, 3]"
   ]
  },
  {
   "cell_type": "code",
   "execution_count": 41,
   "id": "c54af39c",
   "metadata": {},
   "outputs": [
    {
     "data": {
      "text/plain": [
       "True"
      ]
     },
     "execution_count": 41,
     "metadata": {},
     "output_type": "execute_result"
    }
   ],
   "source": [
    "['a', 'z'] > ['a', 'x']"
   ]
  },
  {
   "cell_type": "code",
   "execution_count": 42,
   "id": "34a59586",
   "metadata": {},
   "outputs": [
    {
     "data": {
      "text/plain": [
       "False"
      ]
     },
     "execution_count": 42,
     "metadata": {},
     "output_type": "execute_result"
    }
   ],
   "source": [
    "[1, 2, 3] > [10, 2]"
   ]
  },
  {
   "cell_type": "code",
   "execution_count": 43,
   "id": "7be33f99",
   "metadata": {},
   "outputs": [],
   "source": [
    "#The sort() method will order the list object in-place.\n",
    "nums = [1, 5.3, 321, 0, 1, 2]"
   ]
  },
  {
   "cell_type": "code",
   "execution_count": 44,
   "id": "c6d2ed0c",
   "metadata": {},
   "outputs": [
    {
     "data": {
      "text/plain": [
       "[0, 1, 1, 2, 5.3, 321]"
      ]
     },
     "execution_count": 44,
     "metadata": {},
     "output_type": "execute_result"
    }
   ],
   "source": [
    "# ascending order\n",
    "nums.sort()\n",
    "nums"
   ]
  },
  {
   "cell_type": "code",
   "execution_count": 45,
   "id": "7367cdee",
   "metadata": {},
   "outputs": [
    {
     "data": {
      "text/plain": [
       "[321, 5.3, 2, 1, 1, 0]"
      ]
     },
     "execution_count": 45,
     "metadata": {},
     "output_type": "execute_result"
    }
   ],
   "source": [
    "# descending order\n",
    "nums.sort(reverse=True)\n",
    "nums"
   ]
  },
  {
   "cell_type": "code",
   "execution_count": 46,
   "id": "0f5c6316",
   "metadata": {},
   "outputs": [
    {
     "data": {
      "text/plain": [
       "['f', 'g', 'i', 'i', 'l', 'n', 'o', 's', 'u', 'u']"
      ]
     },
     "execution_count": 46,
     "metadata": {},
     "output_type": "execute_result"
    }
   ],
   "source": [
    "sorted('fuliginous')"
   ]
  },
  {
   "cell_type": "code",
   "execution_count": 47,
   "id": "62532533",
   "metadata": {},
   "outputs": [
    {
     "data": {
      "text/plain": [
       "-1"
      ]
     },
     "execution_count": 47,
     "metadata": {},
     "output_type": "execute_result"
    }
   ],
   "source": [
    "nums = [321, 0.5, 899.232, 5.3, 2, 1, -1]\n",
    "min(nums)"
   ]
  },
  {
   "cell_type": "code",
   "execution_count": 48,
   "id": "fbf22a4c",
   "metadata": {},
   "outputs": [
    {
     "data": {
      "text/plain": [
       "899.232"
      ]
     },
     "execution_count": 48,
     "metadata": {},
     "output_type": "execute_result"
    }
   ],
   "source": [
    "max(nums)"
   ]
  },
  {
   "cell_type": "code",
   "execution_count": null,
   "id": "3d0cc22c",
   "metadata": {},
   "outputs": [],
   "source": []
  }
 ],
 "metadata": {
  "kernelspec": {
   "display_name": "Python 3 (ipykernel)",
   "language": "python",
   "name": "python3"
  },
  "language_info": {
   "codemirror_mode": {
    "name": "ipython",
    "version": 3
   },
   "file_extension": ".py",
   "mimetype": "text/x-python",
   "name": "python",
   "nbconvert_exporter": "python",
   "pygments_lexer": "ipython3",
   "version": "3.7.5"
  }
 },
 "nbformat": 4,
 "nbformat_minor": 5
}
