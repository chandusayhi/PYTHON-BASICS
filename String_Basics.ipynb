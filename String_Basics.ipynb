{
 "cells": [
  {
   "cell_type": "code",
   "execution_count": 21,
   "id": "5732ef4f",
   "metadata": {},
   "outputs": [
    {
     "data": {
      "text/plain": [
       "'hello'"
      ]
     },
     "execution_count": 21,
     "metadata": {},
     "output_type": "execute_result"
    }
   ],
   "source": [
    "#Hello String\n",
    "'hello'"
   ]
  },
  {
   "cell_type": "code",
   "execution_count": 22,
   "id": "b387324a",
   "metadata": {},
   "outputs": [
    {
     "name": "stdout",
     "output_type": "stream",
     "text": [
      "world\n"
     ]
    }
   ],
   "source": [
    "print(\"world\")"
   ]
  },
  {
   "cell_type": "code",
   "execution_count": 24,
   "id": "c808c85d",
   "metadata": {},
   "outputs": [
    {
     "name": "stdout",
     "output_type": "stream",
     "text": [
      "\"Will you come?\" he asked.\n",
      "it's a fine sunny day\n"
     ]
    }
   ],
   "source": [
    "print('\"Will you come?\" he asked.')\n",
    "\n",
    "print(\"it's a fine sunny day\")"
   ]
  },
  {
   "cell_type": "code",
   "execution_count": 25,
   "id": "4d46acb8",
   "metadata": {},
   "outputs": [
    {
     "name": "stdout",
     "output_type": "stream",
     "text": [
      "hi there.\n",
      "how are you?\n",
      "Name:\tlearnbyexample\n",
      "Age:\t25\n",
      "Dept:\tCSE\n"
     ]
    }
   ],
   "source": [
    "# triple_quotes\n",
    "print('''hi there.\n",
    "how are you?''')\n",
    "\n",
    "student = '''\\\n",
    "Name:\\tlearnbyexample\n",
    "Age:\\t25\n",
    "Dept:\\tCSE'''\n",
    "\n",
    "print(student)\n"
   ]
  },
  {
   "cell_type": "code",
   "execution_count": 26,
   "id": "e8c6f772",
   "metadata": {},
   "outputs": [
    {
     "name": "stdout",
     "output_type": "stream",
     "text": [
      "hello world\n"
     ]
    }
   ],
   "source": [
    "#Concatenate Strings using + Operators\n",
    "str1 = 'hello'\n",
    "str2 = ' world'\n",
    "str3 = str1 + str2\n",
    "print(str3)"
   ]
  },
  {
   "cell_type": "code",
   "execution_count": 27,
   "id": "773c124e",
   "metadata": {},
   "outputs": [
    {
     "data": {
      "text/plain": [
       "'hello world. 1\\\\n2'"
      ]
     },
     "execution_count": 27,
     "metadata": {},
     "output_type": "execute_result"
    }
   ],
   "source": [
    "str3 + r'. 1\\n2'"
   ]
  },
  {
   "cell_type": "code",
   "execution_count": 29,
   "id": "89e47566",
   "metadata": {},
   "outputs": [
    {
     "name": "stdout",
     "output_type": "stream",
     "text": [
      "--------------------------------------------------\n"
     ]
    }
   ],
   "source": [
    "#Repeat String by Using * operator\n",
    "style_char = '-'\n",
    "print(style_char * 50)"
   ]
  },
  {
   "cell_type": "code",
   "execution_count": 30,
   "id": "2e862534",
   "metadata": {},
   "outputs": [
    {
     "name": "stdout",
     "output_type": "stream",
     "text": [
      "buffalo buffalo buffalo buffalo buffalo buffalo buffalo buffalo \n"
     ]
    }
   ],
   "source": [
    "word = 'buffalo '\n",
    "print(8 * word)"
   ]
  },
  {
   "cell_type": "code",
   "execution_count": 2,
   "id": "94671d45",
   "metadata": {},
   "outputs": [
    {
     "data": {
      "text/plain": [
       "'msg: hello world'"
      ]
     },
     "execution_count": 2,
     "metadata": {},
     "output_type": "execute_result"
    }
   ],
   "source": [
    "#String formatting with %\n",
    "msg = 'hello world'\n",
    "'msg: %s' % msg"
   ]
  },
  {
   "cell_type": "code",
   "execution_count": 3,
   "id": "85318ca3",
   "metadata": {},
   "outputs": [
    {
     "data": {
      "text/plain": [
       "'msg: hello world'"
      ]
     },
     "execution_count": 3,
     "metadata": {},
     "output_type": "execute_result"
    }
   ],
   "source": [
    "#string.format\n",
    "msg = 'hello world'\n",
    "'msg: {}'.format(msg)"
   ]
  },
  {
   "cell_type": "code",
   "execution_count": 4,
   "id": "bcb39d04",
   "metadata": {},
   "outputs": [
    {
     "data": {
      "text/plain": [
       "'msg: hello world'"
      ]
     },
     "execution_count": 4,
     "metadata": {},
     "output_type": "execute_result"
    }
   ],
   "source": [
    "#using f-strings \n",
    "msg = 'hello world'\n",
    "f'msg: {msg}'"
   ]
  },
  {
   "cell_type": "code",
   "execution_count": 6,
   "id": "c7a60365",
   "metadata": {},
   "outputs": [
    {
     "name": "stdout",
     "output_type": "stream",
     "text": [
      "The book The Python Introduction for Beginners has 124 pages\\n\n",
      "The book The Python Introduction for Beginners has 124 pages\\n\n",
      "The book The Python Introduction for Beginners has 124 pages\n",
      "\n"
     ]
    }
   ],
   "source": [
    "book = \"The Python Introduction for Beginners\"\n",
    "\n",
    "num_pages = 124\n",
    "\n",
    "f\"The book {book} has {num_pages} pages\"\n",
    "\n",
    "\n",
    "F\"The book {book} has {num_pages} pages\"\n",
    "\n",
    "\n",
    "print(Fr\"The book {book} has {num_pages} pages\\n\")\n",
    "\n",
    "\n",
    "print(FR\"The book {book} has {num_pages} pages\\n\")\n",
    "\n",
    "\n",
    "print(f\"The book {book} has {num_pages} pages\\n\")\n"
   ]
  },
  {
   "cell_type": "code",
   "execution_count": 7,
   "id": "82f1528c",
   "metadata": {},
   "outputs": [
    {
     "data": {
      "text/plain": [
       "'4 * 4 is 16'"
      ]
     },
     "execution_count": 7,
     "metadata": {},
     "output_type": "execute_result"
    }
   ],
   "source": [
    "#How to format an expression\n",
    "f\"4 * 4 is {4 * 4}\""
   ]
  },
  {
   "cell_type": "code",
   "execution_count": 8,
   "id": "04d98bce",
   "metadata": {},
   "outputs": [
    {
     "data": {
      "text/plain": [
       "'4 * 4 is 16'"
      ]
     },
     "execution_count": 8,
     "metadata": {},
     "output_type": "execute_result"
    }
   ],
   "source": [
    "n = 4\n",
    "\n",
    "f\"4 * 4 is {n * n}\""
   ]
  },
  {
   "cell_type": "code",
   "execution_count": 16,
   "id": "5afff848",
   "metadata": {},
   "outputs": [
    {
     "name": "stdout",
     "output_type": "stream",
     "text": [
      "27 in Binary   11011\n",
      "27 in Octal     33\n",
      "27 in Hexadecimal     1b\n",
      "27 in Hexadecimal     1B\n",
      "27 in Decimal     27\n"
     ]
    }
   ],
   "source": [
    "#How to Format Integers in Different Bases\n",
    "n=27\n",
    "#binary\n",
    "print(f\"27 in Binary {n:7b}\")\n",
    "#octal\n",
    "print(f\"27 in Octal{n:7o}\")\n",
    "#hex\n",
    "print(f\"27 in Hexadecimal{n:7x}\")\n",
    "#HEX\n",
    "print(f\"27 in Hexadecimal{n:7X}\")\n",
    "#decimal\n",
    "print(f\"27 in Decimal{n:7d}\")\n"
   ]
  },
  {
   "cell_type": "code",
   "execution_count": 17,
   "id": "a992b0c0",
   "metadata": {},
   "outputs": [
    {
     "name": "stdout",
     "output_type": "stream",
     "text": [
      "    1     1     1     1     1 \n",
      "   10     2     2     2     2 \n",
      "   11     3     3     3     3 \n",
      "  100     4     4     4     4 \n",
      "  101     5     5     5     5 \n",
      "  110     6     6     6     6 \n",
      "  111     7     7     7     7 \n",
      " 1000    10     8     8     8 \n",
      " 1001    11     9     9     9 \n",
      " 1010    12     a     A    10 \n",
      " 1011    13     b     B    11 \n",
      " 1100    14     c     C    12 \n",
      " 1101    15     d     D    13 \n",
      " 1110    16     e     E    14 \n",
      " 1111    17     f     F    15 \n",
      "10000    20    10    10    16 \n",
      "10001    21    11    11    17 \n",
      "10010    22    12    12    18 \n",
      "10011    23    13    13    19 \n",
      "10100    24    14    14    20 \n"
     ]
    }
   ],
   "source": [
    "#int to other number formats\n",
    "bases = {\n",
    "       \"b\": \"bin\", \n",
    "       \"o\": \"oct\", \n",
    "       \"x\": \"hex\", \n",
    "       \"X\": \"HEX\", \n",
    "       \"d\": \"decimal\"\n",
    "}\n",
    "for n in range(1, 21):\n",
    "     for base, desc in bases.items():\n",
    "         print(f\"{n:5{base}}\", end=' ')\n",
    "     print()"
   ]
  },
  {
   "cell_type": "code",
   "execution_count": 18,
   "id": "75371481",
   "metadata": {},
   "outputs": [
    {
     "data": {
      "text/plain": [
       "'num rounded to 2 decimal palces = 4.12'"
      ]
     },
     "execution_count": 18,
     "metadata": {},
     "output_type": "execute_result"
    }
   ],
   "source": [
    "#Set float number precision in F-string\n",
    "num = 4.123956\n",
    "\n",
    "f\"num rounded to 2 decimal palces = {num:.2f}\""
   ]
  },
  {
   "cell_type": "code",
   "execution_count": 19,
   "id": "1ce20c49",
   "metadata": {},
   "outputs": [
    {
     "name": "stdout",
     "output_type": "stream",
     "text": [
      "4.123956\n"
     ]
    }
   ],
   "source": [
    "#without precision\n",
    "print(f'{num}')"
   ]
  },
  {
   "cell_type": "code",
   "execution_count": 31,
   "id": "cc2c8035",
   "metadata": {},
   "outputs": [
    {
     "name": "stdout",
     "output_type": "stream",
     "text": [
      "what is your name? Chandrakant\n"
     ]
    }
   ],
   "source": [
    "#User Input\n",
    "name = input('what is your name? ')"
   ]
  },
  {
   "cell_type": "code",
   "execution_count": 32,
   "id": "af34600a",
   "metadata": {},
   "outputs": [
    {
     "name": "stdout",
     "output_type": "stream",
     "text": [
      "what is your name? chandrakant\n"
     ]
    }
   ],
   "source": [
    "name = input('what is your name? ')"
   ]
  },
  {
   "cell_type": "code",
   "execution_count": 33,
   "id": "aaa38e1a",
   "metadata": {},
   "outputs": [
    {
     "name": "stdout",
     "output_type": "stream",
     "text": [
      "pleased to meet you chandrakant.\n"
     ]
    }
   ],
   "source": [
    "print(f'pleased to meet you {name}.')"
   ]
  },
  {
   "cell_type": "code",
   "execution_count": 36,
   "id": "1715ef46",
   "metadata": {},
   "outputs": [
    {
     "data": {
      "text/plain": [
       "int"
      ]
     },
     "execution_count": 36,
     "metadata": {},
     "output_type": "execute_result"
    }
   ],
   "source": [
    "num = 42\n",
    "type(num)"
   ]
  },
  {
   "cell_type": "code",
   "execution_count": 37,
   "id": "4e35d8aa",
   "metadata": {},
   "outputs": [
    {
     "data": {
      "text/plain": [
       "float"
      ]
     },
     "execution_count": 37,
     "metadata": {},
     "output_type": "execute_result"
    }
   ],
   "source": [
    "type(22 / 7)"
   ]
  },
  {
   "cell_type": "code",
   "execution_count": 38,
   "id": "58c65905",
   "metadata": {},
   "outputs": [
    {
     "data": {
      "text/plain": [
       "str"
      ]
     },
     "execution_count": 38,
     "metadata": {},
     "output_type": "execute_result"
    }
   ],
   "source": [
    "type('Hi there')"
   ]
  },
  {
   "cell_type": "code",
   "execution_count": 39,
   "id": "47ee8ced",
   "metadata": {},
   "outputs": [
    {
     "data": {
      "text/plain": [
       "3"
      ]
     },
     "execution_count": 39,
     "metadata": {},
     "output_type": "execute_result"
    }
   ],
   "source": [
    "num = 3.14\n",
    "int(num)"
   ]
  },
  {
   "cell_type": "code",
   "execution_count": 40,
   "id": "92a3f21a",
   "metadata": {},
   "outputs": [
    {
     "data": {
      "text/plain": [
       "'3.14'"
      ]
     },
     "execution_count": 40,
     "metadata": {},
     "output_type": "execute_result"
    }
   ],
   "source": [
    "str(num)"
   ]
  },
  {
   "cell_type": "code",
   "execution_count": 41,
   "id": "8910c8a7",
   "metadata": {},
   "outputs": [
    {
     "data": {
      "text/plain": [
       "'HELLO, WORLD!'"
      ]
     },
     "execution_count": 41,
     "metadata": {},
     "output_type": "execute_result"
    }
   ],
   "source": [
    "ss = \"Hello, World!\"\n",
    "tt = ss.upper()\n",
    "tt"
   ]
  },
  {
   "cell_type": "code",
   "execution_count": null,
   "id": "918d7bc6",
   "metadata": {},
   "outputs": [],
   "source": []
  }
 ],
 "metadata": {
  "kernelspec": {
   "display_name": "Python 3 (ipykernel)",
   "language": "python",
   "name": "python3"
  },
  "language_info": {
   "codemirror_mode": {
    "name": "ipython",
    "version": 3
   },
   "file_extension": ".py",
   "mimetype": "text/x-python",
   "name": "python",
   "nbconvert_exporter": "python",
   "pygments_lexer": "ipython3",
   "version": "3.7.5"
  }
 },
 "nbformat": 4,
 "nbformat_minor": 5
}
