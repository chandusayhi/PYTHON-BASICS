{
 "cells": [
  {
   "cell_type": "markdown",
   "id": "86090892",
   "metadata": {},
   "source": [
    "# Mutability\n",
    "\n",
    "int, float, str and tuple are examples for immutable data types. On the other hand, types like list and dict are mutable. "
   ]
  },
  {
   "cell_type": "code",
   "execution_count": 1,
   "id": "1174840a",
   "metadata": {},
   "outputs": [
    {
     "data": {
      "text/plain": [
       "11171872"
      ]
     },
     "execution_count": 1,
     "metadata": {},
     "output_type": "execute_result"
    }
   ],
   "source": [
    "#The id() built-in function returns the identity (reference) of an object. \n",
    "num1 = 5\n",
    "id(num1)"
   ]
  },
  {
   "cell_type": "code",
   "execution_count": 2,
   "id": "9cb0186d",
   "metadata": {},
   "outputs": [
    {
     "data": {
      "text/plain": [
       "11172032"
      ]
     },
     "execution_count": 2,
     "metadata": {},
     "output_type": "execute_result"
    }
   ],
   "source": [
    "# here, num1 gets a new identity\n",
    "num1 = 10\n",
    "id(num1)"
   ]
  },
  {
   "cell_type": "code",
   "execution_count": 3,
   "id": "350f356b",
   "metadata": {},
   "outputs": [
    {
     "data": {
      "text/plain": [
       "11172032"
      ]
     },
     "execution_count": 3,
     "metadata": {},
     "output_type": "execute_result"
    }
   ],
   "source": [
    "# num2 will have the same reference as num1\n",
    "num2 = num1\n",
    "id(num2)"
   ]
  },
  {
   "cell_type": "code",
   "execution_count": 4,
   "id": "1dd3d05d",
   "metadata": {},
   "outputs": [
    {
     "data": {
      "text/plain": [
       "11171840"
      ]
     },
     "execution_count": 4,
     "metadata": {},
     "output_type": "execute_result"
    }
   ],
   "source": [
    "# num2 gets a new reference, num1 won't be affected\n",
    "num2 = 4\n",
    "id(num2)"
   ]
  },
  {
   "cell_type": "code",
   "execution_count": 5,
   "id": "5066aaf4",
   "metadata": {},
   "outputs": [
    {
     "data": {
      "text/plain": [
       "10"
      ]
     },
     "execution_count": 5,
     "metadata": {},
     "output_type": "execute_result"
    }
   ],
   "source": [
    "num1"
   ]
  },
  {
   "cell_type": "markdown",
   "id": "c8142e13",
   "metadata": {},
   "source": [
    "# Pass by reference\n",
    "\n",
    "Variables in Python store references to an object, not their values. When you pass a list object to a function, you are passing the reference to this object. Since list is mutable, any in-place changes made to this object within the function will also be reflected in the original variable that was passed to the function."
   ]
  },
  {
   "cell_type": "code",
   "execution_count": 6,
   "id": "707b98b9",
   "metadata": {},
   "outputs": [
    {
     "data": {
      "text/plain": [
       "[2, 321, 1, 1, 0, 5.3]"
      ]
     },
     "execution_count": 6,
     "metadata": {},
     "output_type": "execute_result"
    }
   ],
   "source": [
    "def rotate(ip):\n",
    "    ip.insert(0, ip.pop())\n",
    "nums = [321, 1, 1, 0, 5.3, 2]\n",
    "rotate(nums)\n",
    "nums"
   ]
  },
  {
   "cell_type": "markdown",
   "id": "e51bc6e2",
   "metadata": {},
   "source": [
    "# Dict\n",
    "\n",
    "Dictionaries can be thought of as a collection of key-value pairs or a named list of items. It used to be unordered, but recent Python versions ensure that the insertion order is maintained."
   ]
  },
  {
   "cell_type": "code",
   "execution_count": 7,
   "id": "16de47e6",
   "metadata": {},
   "outputs": [
    {
     "data": {
      "text/plain": [
       "75"
      ]
     },
     "execution_count": 7,
     "metadata": {},
     "output_type": "execute_result"
    }
   ],
   "source": [
    "#A dict data type is declared within {} characters and each item requires two values — an immutable data type for key, followed by : character and finally a value of any data type.\n",
    "marks = {'Rahul': 86, 'Ravi': 92, 'Rohit': 75, 'Rajan': 79}\n",
    "\n",
    "marks['Rohit']"
   ]
  },
  {
   "cell_type": "code",
   "execution_count": 8,
   "id": "3abcf934",
   "metadata": {},
   "outputs": [],
   "source": [
    "marks['Rahul'] += 5\n",
    "marks['Ram'] = 67 \n",
    "del marks['Rohit']"
   ]
  },
  {
   "cell_type": "code",
   "execution_count": 9,
   "id": "bd3f916b",
   "metadata": {},
   "outputs": [
    {
     "data": {
      "text/plain": [
       "{'Rahul': 91, 'Ravi': 92, 'Rajan': 79, 'Ram': 67}"
      ]
     },
     "execution_count": 9,
     "metadata": {},
     "output_type": "execute_result"
    }
   ],
   "source": [
    "marks"
   ]
  },
  {
   "cell_type": "code",
   "execution_count": 10,
   "id": "e767522a",
   "metadata": {},
   "outputs": [
    {
     "data": {
      "text/plain": [
       "'hero'"
      ]
     },
     "execution_count": 10,
     "metadata": {},
     "output_type": "execute_result"
    }
   ],
   "source": [
    "items = {('car', 2): 'honda', ('car', 5): 'tesla', ('bike', 10): 'hero'}\n",
    "items[('bike', 10)]"
   ]
  },
  {
   "cell_type": "code",
   "execution_count": 11,
   "id": "860694bd",
   "metadata": {},
   "outputs": [
    {
     "data": {
      "text/plain": [
       "{'Rahul': 86, 'Ravi': 92, 'Rohit': 75, 'Rajan': 79}"
      ]
     },
     "execution_count": 11,
     "metadata": {},
     "output_type": "execute_result"
    }
   ],
   "source": [
    "#You can also use the dict() function for initialization in various ways. \n",
    "marks = dict(Rahul=86, Ravi=92, Rohit=75, Rajan=79)\n",
    "marks"
   ]
  },
  {
   "cell_type": "code",
   "execution_count": 12,
   "id": "37d228b2",
   "metadata": {},
   "outputs": [
    {
     "data": {
      "text/plain": [
       "{'jeep': 20, 'car': 3, 'cycle': 5}"
      ]
     },
     "execution_count": 12,
     "metadata": {},
     "output_type": "execute_result"
    }
   ],
   "source": [
    "items = [('jeep', 20), ('car', 3), ('cycle', 5)]\n",
    "dict(items)"
   ]
  },
  {
   "cell_type": "code",
   "execution_count": 13,
   "id": "85d9a5bc",
   "metadata": {},
   "outputs": [
    {
     "data": {
      "text/plain": [
       "{'red': None, 'blue': None, 'green': None}"
      ]
     },
     "execution_count": 13,
     "metadata": {},
     "output_type": "execute_result"
    }
   ],
   "source": [
    "#Another way to initialize is to use the fromkeys() method that accepts an iterable and an optional value (default is None).\n",
    "colors = ('red', 'blue', 'green')\n",
    "dict.fromkeys(colors)"
   ]
  },
  {
   "cell_type": "code",
   "execution_count": 14,
   "id": "26c6884d",
   "metadata": {},
   "outputs": [
    {
     "data": {
      "text/plain": [
       "{'red': 255, 'blue': 255, 'green': 255}"
      ]
     },
     "execution_count": 14,
     "metadata": {},
     "output_type": "execute_result"
    }
   ],
   "source": [
    "dict.fromkeys(colors, 255)"
   ]
  },
  {
   "cell_type": "code",
   "execution_count": 15,
   "id": "1adadeaa",
   "metadata": {},
   "outputs": [],
   "source": [
    "marks = dict(Rahul=86, Ravi=92, Rohit=75, Rajan=79)"
   ]
  },
  {
   "cell_type": "code",
   "execution_count": 16,
   "id": "59d7df89",
   "metadata": {},
   "outputs": [
    {
     "data": {
      "text/plain": [
       "92"
      ]
     },
     "execution_count": 16,
     "metadata": {},
     "output_type": "execute_result"
    }
   ],
   "source": [
    "marks.get('Ravi')"
   ]
  },
  {
   "cell_type": "code",
   "execution_count": 17,
   "id": "c55ff750",
   "metadata": {},
   "outputs": [
    {
     "name": "stdout",
     "output_type": "stream",
     "text": [
      "None\n"
     ]
    }
   ],
   "source": [
    "value = marks.get('Ron')\n",
    "print(value)"
   ]
  },
  {
   "cell_type": "code",
   "execution_count": 18,
   "id": "f71c144f",
   "metadata": {},
   "outputs": [
    {
     "data": {
      "text/plain": [
       "0"
      ]
     },
     "execution_count": 18,
     "metadata": {},
     "output_type": "execute_result"
    }
   ],
   "source": [
    "marks.get('Ron', 0)"
   ]
  },
  {
   "cell_type": "code",
   "execution_count": 19,
   "id": "0797de20",
   "metadata": {},
   "outputs": [
    {
     "data": {
      "text/plain": [
       "{'car': 3, 'jeep': 1, 'bike': 2, 'bus': 1}"
      ]
     },
     "execution_count": 19,
     "metadata": {},
     "output_type": "execute_result"
    }
   ],
   "source": [
    "vehicles = ['car', 'jeep', 'car', 'bike', 'bus', 'car', 'bike']\n",
    "hist = {}\n",
    "for v in vehicles:\n",
    "     hist[v] = hist.get(v, 0) + 1\n",
    "hist"
   ]
  },
  {
   "cell_type": "code",
   "execution_count": 20,
   "id": "4169d475",
   "metadata": {},
   "outputs": [
    {
     "data": {
      "text/plain": [
       "40"
      ]
     },
     "execution_count": 20,
     "metadata": {},
     "output_type": "execute_result"
    }
   ],
   "source": [
    "#Using get() method will not automatically add keys that do not exist yet to the dict object. You can use setdefault() method, which behaves similarly to get() except that keys will get created if not found.\n",
    "marks = dict(Rahul=86, Ravi=92, Rohit=75, Rajan=79)\n",
    "\n",
    "marks.get('Ram', 40)"
   ]
  },
  {
   "cell_type": "code",
   "execution_count": 21,
   "id": "b28fe4a8",
   "metadata": {},
   "outputs": [
    {
     "data": {
      "text/plain": [
       "{'Rahul': 86, 'Ravi': 92, 'Rohit': 75, 'Rajan': 79}"
      ]
     },
     "execution_count": 21,
     "metadata": {},
     "output_type": "execute_result"
    }
   ],
   "source": [
    "marks"
   ]
  },
  {
   "cell_type": "code",
   "execution_count": 22,
   "id": "19be021e",
   "metadata": {},
   "outputs": [
    {
     "data": {
      "text/plain": [
       "40"
      ]
     },
     "execution_count": 22,
     "metadata": {},
     "output_type": "execute_result"
    }
   ],
   "source": [
    "marks.setdefault('Ram', 40)"
   ]
  },
  {
   "cell_type": "code",
   "execution_count": 23,
   "id": "612bdf98",
   "metadata": {},
   "outputs": [
    {
     "data": {
      "text/plain": [
       "{'Rahul': 86, 'Ravi': 92, 'Rohit': 75, 'Rajan': 79, 'Ram': 40}"
      ]
     },
     "execution_count": 23,
     "metadata": {},
     "output_type": "execute_result"
    }
   ],
   "source": [
    "marks"
   ]
  },
  {
   "cell_type": "code",
   "execution_count": 24,
   "id": "80fdc94b",
   "metadata": {},
   "outputs": [
    {
     "name": "stdout",
     "output_type": "stream",
     "text": [
      "banana:12\n",
      "papaya:5\n",
      "mango:10\n",
      "fig:100\n"
     ]
    }
   ],
   "source": [
    "#The default for loop over a dict object will give you a key for each iteration.\n",
    "fruits = dict(banana=12, papaya=5, mango=10, fig=100)\n",
    "\n",
    "for k in fruits:\n",
    "     print(f'{k}:{fruits[k]}')"
   ]
  },
  {
   "cell_type": "code",
   "execution_count": 25,
   "id": "a9ecffcf",
   "metadata": {},
   "outputs": [
    {
     "data": {
      "text/plain": [
       "['banana', 'papaya', 'mango', 'fig']"
      ]
     },
     "execution_count": 25,
     "metadata": {},
     "output_type": "execute_result"
    }
   ],
   "source": [
    "list(fruits)"
   ]
  },
  {
   "cell_type": "code",
   "execution_count": 26,
   "id": "b4654c33",
   "metadata": {},
   "outputs": [
    {
     "data": {
      "text/plain": [
       "True"
      ]
     },
     "execution_count": 26,
     "metadata": {},
     "output_type": "execute_result"
    }
   ],
   "source": [
    "#The in operator checks if a key is present in the given dictionary. The keys() method returns all the keys and values() method returns all the values. \n",
    "marks = dict(Rahul=86, Ravi=92, Rohit=75, Rajan=79)\n",
    "\n",
    "'Ravi' in marks"
   ]
  },
  {
   "cell_type": "code",
   "execution_count": 27,
   "id": "e6b2e4ff",
   "metadata": {},
   "outputs": [
    {
     "data": {
      "text/plain": [
       "False"
      ]
     },
     "execution_count": 27,
     "metadata": {},
     "output_type": "execute_result"
    }
   ],
   "source": [
    "'Ram' in marks"
   ]
  },
  {
   "cell_type": "code",
   "execution_count": 28,
   "id": "87869dd9",
   "metadata": {},
   "outputs": [
    {
     "data": {
      "text/plain": [
       "dict_keys(['Rahul', 'Ravi', 'Rohit', 'Rajan'])"
      ]
     },
     "execution_count": 28,
     "metadata": {},
     "output_type": "execute_result"
    }
   ],
   "source": [
    "marks.keys()"
   ]
  },
  {
   "cell_type": "code",
   "execution_count": 29,
   "id": "211bdd7e",
   "metadata": {},
   "outputs": [
    {
     "data": {
      "text/plain": [
       "dict_values([86, 92, 75, 79])"
      ]
     },
     "execution_count": 29,
     "metadata": {},
     "output_type": "execute_result"
    }
   ],
   "source": [
    "marks.values()"
   ]
  },
  {
   "cell_type": "code",
   "execution_count": 30,
   "id": "0bd3124a",
   "metadata": {},
   "outputs": [],
   "source": [
    "fruits = dict(banana=12, papaya=5, mango=10, fig=100)\n"
   ]
  },
  {
   "cell_type": "code",
   "execution_count": 31,
   "id": "31211df0",
   "metadata": {},
   "outputs": [
    {
     "data": {
      "text/plain": [
       "dict_items([('banana', 12), ('papaya', 5), ('mango', 10), ('fig', 100)])"
      ]
     },
     "execution_count": 31,
     "metadata": {},
     "output_type": "execute_result"
    }
   ],
   "source": [
    "# set-like object\n",
    "fruits.items()"
   ]
  },
  {
   "cell_type": "code",
   "execution_count": 32,
   "id": "2c46b198",
   "metadata": {},
   "outputs": [
    {
     "name": "stdout",
     "output_type": "stream",
     "text": [
      "banana\t: 12\n",
      "papaya\t: 5\n",
      "mango\t: 10\n",
      "fig\t: 100\n"
     ]
    }
   ],
   "source": [
    "for fruit, qty in fruits.items():\n",
    "     print(f'{fruit}\\t: {qty}')"
   ]
  },
  {
   "cell_type": "markdown",
   "id": "278e00db",
   "metadata": {},
   "source": [
    "The del statement example seen earlier removes the given key without returning the value associated with it. You can use the pop() method to get the value as well. The popitem() method removes the last added item and returns the key-value pair as a tuple."
   ]
  },
  {
   "cell_type": "code",
   "execution_count": 33,
   "id": "48e4d140",
   "metadata": {},
   "outputs": [
    {
     "data": {
      "text/plain": [
       "92"
      ]
     },
     "execution_count": 33,
     "metadata": {},
     "output_type": "execute_result"
    }
   ],
   "source": [
    "marks = dict(Rahul=86, Ravi=92, Rohit=75, Rajan=79)\n",
    "\n",
    "marks.pop('Ravi')"
   ]
  },
  {
   "cell_type": "code",
   "execution_count": 34,
   "id": "32383a53",
   "metadata": {},
   "outputs": [
    {
     "data": {
      "text/plain": [
       "{'Rahul': 86, 'Rohit': 75, 'Rajan': 79}"
      ]
     },
     "execution_count": 34,
     "metadata": {},
     "output_type": "execute_result"
    }
   ],
   "source": [
    "marks"
   ]
  },
  {
   "cell_type": "code",
   "execution_count": 35,
   "id": "9f672a42",
   "metadata": {},
   "outputs": [
    {
     "data": {
      "text/plain": [
       "('Rajan', 79)"
      ]
     },
     "execution_count": 35,
     "metadata": {},
     "output_type": "execute_result"
    }
   ],
   "source": [
    "marks.popitem()"
   ]
  },
  {
   "cell_type": "code",
   "execution_count": 36,
   "id": "da97f9e2",
   "metadata": {},
   "outputs": [
    {
     "data": {
      "text/plain": [
       "{'Rahul': 86, 'Rohit': 75}"
      ]
     },
     "execution_count": 36,
     "metadata": {},
     "output_type": "execute_result"
    }
   ],
   "source": [
    "marks"
   ]
  },
  {
   "cell_type": "code",
   "execution_count": 37,
   "id": "b4599383",
   "metadata": {},
   "outputs": [],
   "source": [
    "#The update() method allows you to add/update items from another dictionary or a container with key-value pair elements.\n",
    "marks = dict(Rahul=86, Ravi=92, Rohit=75, Rajan=79)\n",
    "marks.update(dict(Jo=89, Joe=75, Ravi=100))"
   ]
  },
  {
   "cell_type": "code",
   "execution_count": 38,
   "id": "84e74349",
   "metadata": {},
   "outputs": [
    {
     "data": {
      "text/plain": [
       "{'Rahul': 86, 'Ravi': 100, 'Rohit': 75, 'Rajan': 79, 'Jo': 89, 'Joe': 75}"
      ]
     },
     "execution_count": 38,
     "metadata": {},
     "output_type": "execute_result"
    }
   ],
   "source": [
    "marks"
   ]
  },
  {
   "cell_type": "code",
   "execution_count": 39,
   "id": "7a5f1d76",
   "metadata": {},
   "outputs": [
    {
     "data": {
      "text/plain": [
       "{'papaya': 5, 'mango': 10, 'fig': 100, 'tomato': 3, 'banana': 10}"
      ]
     },
     "execution_count": 39,
     "metadata": {},
     "output_type": "execute_result"
    }
   ],
   "source": [
    "fruits = dict(papaya=5, mango=10, fig=100)\n",
    "fruits.update([('tomato', 3), ('banana', 10)])\n",
    "fruits"
   ]
  },
  {
   "cell_type": "code",
   "execution_count": null,
   "id": "409382d7",
   "metadata": {},
   "outputs": [],
   "source": []
  },
  {
   "cell_type": "code",
   "execution_count": null,
   "id": "048251f8",
   "metadata": {},
   "outputs": [],
   "source": []
  }
 ],
 "metadata": {
  "kernelspec": {
   "display_name": "Python 3 (ipykernel)",
   "language": "python",
   "name": "python3"
  },
  "language_info": {
   "codemirror_mode": {
    "name": "ipython",
    "version": 3
   },
   "file_extension": ".py",
   "mimetype": "text/x-python",
   "name": "python",
   "nbconvert_exporter": "python",
   "pygments_lexer": "ipython3",
   "version": "3.7.5"
  }
 },
 "nbformat": 4,
 "nbformat_minor": 5
}
