{
 "cells": [
  {
   "cell_type": "markdown",
   "id": "1525195b",
   "metadata": {},
   "source": [
    "will discuss the tuple data type and some of the common sequence operations. Data types like str, range, list and tuple fall under Sequence types. \n",
    "Tuples are declared as a collection of zero or more objects, separated by a comma within () parentheses characters. Each element can be specified as a value by itself or as an expression. The outer parentheses are optional if comma separation is present. "
   ]
  },
  {
   "cell_type": "code",
   "execution_count": 4,
   "id": "2a8834a3",
   "metadata": {},
   "outputs": [
    {
     "name": "stdout",
     "output_type": "stream",
     "text": [
      "()\n"
     ]
    }
   ],
   "source": [
    "empty_tuple = ()\n",
    "print(empty_tuple)"
   ]
  },
  {
   "cell_type": "code",
   "execution_count": 5,
   "id": "b547961a",
   "metadata": {},
   "outputs": [
    {
     "name": "stdout",
     "output_type": "stream",
     "text": [
      "('apple',)\n"
     ]
    }
   ],
   "source": [
    "one_element = ('apple',)\n",
    "print(one_element)"
   ]
  },
  {
   "cell_type": "code",
   "execution_count": 6,
   "id": "b0ecab0a",
   "metadata": {},
   "outputs": [
    {
     "name": "stdout",
     "output_type": "stream",
     "text": [
      "('Aloo tikki', 'Baati', 'Khichdi', 'Makki roti', 'Poha')\n"
     ]
    }
   ],
   "source": [
    "dishes = ('Aloo tikki', 'Baati', 'Khichdi', 'Makki roti', 'Poha')\n",
    "print(dishes)"
   ]
  },
  {
   "cell_type": "code",
   "execution_count": 7,
   "id": "cff8ac02",
   "metadata": {},
   "outputs": [
    {
     "data": {
      "text/plain": [
       "(3, 'two', (-3, -4), ())"
      ]
     },
     "execution_count": 7,
     "metadata": {},
     "output_type": "execute_result"
    }
   ],
   "source": [
    "mixed = (1+2, 'two', (-3, -4), empty_tuple)\n",
    "mixed"
   ]
  },
  {
   "cell_type": "code",
   "execution_count": 10,
   "id": "3cd2080e",
   "metadata": {},
   "outputs": [
    {
     "data": {
      "text/plain": [
       "('h', 'e', 'l', 'l', 'o')"
      ]
     },
     "execution_count": 10,
     "metadata": {},
     "output_type": "execute_result"
    }
   ],
   "source": [
    "#You can use the tuple() built-in function to create a tuple from an iterable \n",
    "chars = tuple('hello')\n",
    "chars"
   ]
  },
  {
   "cell_type": "markdown",
   "id": "0d92b5f3",
   "metadata": {},
   "source": [
    "Tuples are immutable, but individual elements can be either mutable or immutable. As an exercise, given chars = tuple('hello'), check the output of the expression chars[0] and the statement chars[0] = 'H'"
   ]
  },
  {
   "cell_type": "code",
   "execution_count": 9,
   "id": "16732293",
   "metadata": {},
   "outputs": [
    {
     "data": {
      "text/plain": [
       "(3, 6, 9)"
      ]
     },
     "execution_count": 9,
     "metadata": {},
     "output_type": "execute_result"
    }
   ],
   "source": [
    "tuple(range(3, 10, 3))"
   ]
  },
  {
   "cell_type": "markdown",
   "id": "66abaa19",
   "metadata": {},
   "source": [
    "Slicing\n",
    "\n",
    "One or more elements can be retrieved from a sequence using the slicing notation"
   ]
  },
  {
   "cell_type": "code",
   "execution_count": 11,
   "id": "2c2738e9",
   "metadata": {},
   "outputs": [],
   "source": [
    "primes = (2, 3, 5, 7, 11)"
   ]
  },
  {
   "cell_type": "code",
   "execution_count": 12,
   "id": "ee24f7f2",
   "metadata": {},
   "outputs": [
    {
     "data": {
      "text/plain": [
       "2"
      ]
     },
     "execution_count": 12,
     "metadata": {},
     "output_type": "execute_result"
    }
   ],
   "source": [
    "# index starts with 0\n",
    "primes[0]"
   ]
  },
  {
   "cell_type": "code",
   "execution_count": 13,
   "id": "773f3905",
   "metadata": {},
   "outputs": [
    {
     "data": {
      "text/plain": [
       "(5, 7)"
      ]
     },
     "execution_count": 13,
     "metadata": {},
     "output_type": "execute_result"
    }
   ],
   "source": [
    "# start=2 and stop=4, default step=1\n",
    "# note that the element at index 4 (stop value) isn't part of the output\n",
    "primes[2:4]"
   ]
  },
  {
   "cell_type": "code",
   "execution_count": 14,
   "id": "b4420895",
   "metadata": {},
   "outputs": [
    {
     "data": {
      "text/plain": [
       "(2, 3, 5)"
      ]
     },
     "execution_count": 14,
     "metadata": {},
     "output_type": "execute_result"
    }
   ],
   "source": [
    "# default start=0\n",
    "primes[:3]"
   ]
  },
  {
   "cell_type": "code",
   "execution_count": 15,
   "id": "5002313b",
   "metadata": {},
   "outputs": [
    {
     "data": {
      "text/plain": [
       "(7, 11)"
      ]
     },
     "execution_count": 15,
     "metadata": {},
     "output_type": "execute_result"
    }
   ],
   "source": [
    "# default stop=len(seq) for positive values of step\n",
    "primes[3:]"
   ]
  },
  {
   "cell_type": "code",
   "execution_count": 16,
   "id": "b426d7e0",
   "metadata": {},
   "outputs": [
    {
     "data": {
      "text/plain": [
       "(2, 3, 5, 7, 11)"
      ]
     },
     "execution_count": 16,
     "metadata": {},
     "output_type": "execute_result"
    }
   ],
   "source": [
    "# shallow copy of the sequence, same as primes[::1]\n",
    "primes[:]"
   ]
  },
  {
   "cell_type": "code",
   "execution_count": 17,
   "id": "2c03d06c",
   "metadata": {},
   "outputs": [
    {
     "data": {
      "text/plain": [
       "11"
      ]
     },
     "execution_count": 17,
     "metadata": {},
     "output_type": "execute_result"
    }
   ],
   "source": [
    "# len(primes) - 1 = 4, so this is same as primes[4]\n",
    "primes[-1]"
   ]
  },
  {
   "cell_type": "code",
   "execution_count": 18,
   "id": "3ab59a63",
   "metadata": {},
   "outputs": [
    {
     "data": {
      "text/plain": [
       "(11,)"
      ]
     },
     "execution_count": 18,
     "metadata": {},
     "output_type": "execute_result"
    }
   ],
   "source": [
    "# seq[-n:] will give the last n elements\n",
    "primes[-1:]"
   ]
  },
  {
   "cell_type": "code",
   "execution_count": 19,
   "id": "67b07bbc",
   "metadata": {},
   "outputs": [
    {
     "data": {
      "text/plain": [
       "(7, 11)"
      ]
     },
     "execution_count": 19,
     "metadata": {},
     "output_type": "execute_result"
    }
   ],
   "source": [
    "primes[-2:]"
   ]
  },
  {
   "cell_type": "code",
   "execution_count": 20,
   "id": "2d478876",
   "metadata": {},
   "outputs": [
    {
     "data": {
      "text/plain": [
       "(2, 5, 11)"
      ]
     },
     "execution_count": 20,
     "metadata": {},
     "output_type": "execute_result"
    }
   ],
   "source": [
    "# same as primes[0:5:2]\n",
    "primes[::2]"
   ]
  },
  {
   "cell_type": "code",
   "execution_count": 21,
   "id": "57d47284",
   "metadata": {},
   "outputs": [
    {
     "data": {
      "text/plain": [
       "(7, 5)"
      ]
     },
     "execution_count": 21,
     "metadata": {},
     "output_type": "execute_result"
    }
   ],
   "source": [
    "# retrieve elements in reverse direction\n",
    "# note that the element at index 1 (stop value) isn't part of the output\n",
    "primes[3:1:-1]"
   ]
  },
  {
   "cell_type": "code",
   "execution_count": 22,
   "id": "aa1dc284",
   "metadata": {},
   "outputs": [
    {
     "data": {
      "text/plain": [
       "(11, 7, 5, 3, 2)"
      ]
     },
     "execution_count": 22,
     "metadata": {},
     "output_type": "execute_result"
    }
   ],
   "source": [
    "# reversed sequence\n",
    "# would help you with the palindrome exercise from Control structures chapter\n",
    "primes[::-1]"
   ]
  },
  {
   "cell_type": "markdown",
   "id": "c1f5d58e",
   "metadata": {},
   "source": [
    "As an exercise, given primes = (2, 3, 5, 7, 11),\n",
    "\n",
    "what happens if you use primes[5] or  primes[-6]?\n",
    "what happens if you use primes[:5] or primes[-6:]?\n",
    "is it possible to get the same output as primes[::-1] by using an explicit number for the stop value? If not, why not?"
   ]
  },
  {
   "cell_type": "markdown",
   "id": "61384889",
   "metadata": {},
   "source": [
    "Sequence unpacking\n",
    "\n",
    "You can assign the individual elements of an iterable to multiple variables. This is known as sequence unpacking and it is handy in many situations."
   ]
  },
  {
   "cell_type": "code",
   "execution_count": 24,
   "id": "94aaf27d",
   "metadata": {},
   "outputs": [
    {
     "name": "stdout",
     "output_type": "stream",
     "text": [
      "2018-10-25\n",
      "car\n",
      "2346\n"
     ]
    }
   ],
   "source": [
    "details = ('2018-10-25', 'car', 2346)\n",
    "purchase_date, vehicle, qty = details\n",
    "print(purchase_date)\n",
    "print(vehicle)\n",
    "print(qty)"
   ]
  },
  {
   "cell_type": "code",
   "execution_count": 27,
   "id": "fa1d9828",
   "metadata": {},
   "outputs": [
    {
     "name": "stdout",
     "output_type": "stream",
     "text": [
      "-100; 3.14; 42\n"
     ]
    }
   ],
   "source": [
    "#Swap variable values\n",
    "num1 = 3.14\n",
    "num2 = 42\n",
    "num3 = -100\n",
    "num1, num2, num3 = num3, num1, num2\n",
    "print(f\"{num1}; {num2}; {num3}\")"
   ]
  },
  {
   "cell_type": "code",
   "execution_count": 28,
   "id": "a4038064",
   "metadata": {},
   "outputs": [],
   "source": [
    "#You can use a * prefix to assign all the remaining values, if any is left, to a list variable.\n",
    "values = ('first', 6.2, -3, 500, 'last')"
   ]
  },
  {
   "cell_type": "code",
   "execution_count": 29,
   "id": "97648137",
   "metadata": {},
   "outputs": [],
   "source": [
    "x, *y = values"
   ]
  },
  {
   "cell_type": "code",
   "execution_count": 30,
   "id": "69b73e92",
   "metadata": {},
   "outputs": [
    {
     "data": {
      "text/plain": [
       "'first'"
      ]
     },
     "execution_count": 30,
     "metadata": {},
     "output_type": "execute_result"
    }
   ],
   "source": [
    "x"
   ]
  },
  {
   "cell_type": "code",
   "execution_count": 31,
   "id": "d048ce55",
   "metadata": {},
   "outputs": [
    {
     "data": {
      "text/plain": [
       "[6.2, -3, 500, 'last']"
      ]
     },
     "execution_count": 31,
     "metadata": {},
     "output_type": "execute_result"
    }
   ],
   "source": [
    "y"
   ]
  },
  {
   "cell_type": "code",
   "execution_count": 32,
   "id": "dfcaaa7c",
   "metadata": {},
   "outputs": [
    {
     "name": "stdout",
     "output_type": "stream",
     "text": [
      "first\n",
      "[6.2, -3, 500]\n",
      "last\n"
     ]
    }
   ],
   "source": [
    "a, *b, c = values\n",
    "print(a)\n",
    "print(b)\n",
    "print(c)"
   ]
  },
  {
   "cell_type": "markdown",
   "id": "37678789",
   "metadata": {},
   "source": [
    "As an exercise, what do you think will happen for these cases, given nums = (1, 2):\n",
    "\n",
    "    a, b, c = nums\n",
    "    a, *b, c = nums\n",
    "    *a, *b = nums"
   ]
  },
  {
   "cell_type": "code",
   "execution_count": null,
   "id": "2d5d74f7",
   "metadata": {},
   "outputs": [],
   "source": []
  }
 ],
 "metadata": {
  "kernelspec": {
   "display_name": "Python 3 (ipykernel)",
   "language": "python",
   "name": "python3"
  },
  "language_info": {
   "codemirror_mode": {
    "name": "ipython",
    "version": 3
   },
   "file_extension": ".py",
   "mimetype": "text/x-python",
   "name": "python",
   "nbconvert_exporter": "python",
   "pygments_lexer": "ipython3",
   "version": "3.7.5"
  }
 },
 "nbformat": 4,
 "nbformat_minor": 5
}
